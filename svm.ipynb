{
 "cells": [
  {
   "cell_type": "code",
   "execution_count": 1,
   "metadata": {},
   "outputs": [
    {
     "name": "stderr",
     "output_type": "stream",
     "text": [
      "/usr/lib/python3/dist-packages/matplotlib/__init__.py:874: UserWarning: axes.color_cycle is deprecated and replaced with axes.prop_cycle; please use the latter.\n",
      "  warnings.warn(self.msg_depr % (key, alt_key))\n"
     ]
    }
   ],
   "source": [
    "import numpy as np\n",
    "import scipy as sp\n",
    "import pandas as pd\n",
    "import sklearn\n",
    "\n",
    "# from sklearn.model_selection import KFold\n",
    "from sklearn.preprocessing import StandardScaler\n",
    "#from sklearn.model_selection import train_test_split\n",
    "from sklearn.metrics import confusion_matrix\n",
    "from sklearn.metrics import accuracy_score, recall_score, precision_score, f1_score\n",
    "from sklearn.metrics import roc_auc_score, average_precision_score\n",
    "\n",
    "import matplotlib\n",
    "matplotlib.use('nbagg')\n",
    "import matplotlib.pyplot as plt\n",
    "\n",
    "import seaborn as sns"
   ]
  },
  {
   "cell_type": "code",
   "execution_count": 2,
   "metadata": {},
   "outputs": [],
   "source": [
    "train_set = pd.read_csv(\"data/treino_total.csv\", sep=',', header=0, low_memory=False)\n",
    "val_set = pd.read_csv(\"data/val_total.csv\", sep=',', header=0, low_memory=False)\n",
    "test_set = pd.read_csv(\"data/teste_total.csv\", sep=',', header=0, low_memory=False)"
   ]
  },
  {
   "cell_type": "code",
   "execution_count": 3,
   "metadata": {},
   "outputs": [],
   "source": [
    "# merge das duas ultimas colunas na coluna 'y'\n",
    "train_set = train_set.drop('IND_BOM_1_2', 1)\n",
    "train_set = train_set.rename(columns={'IND_BOM_1_1': 'y'})\n",
    "val_set = val_set.drop('IND_BOM_1_2', 1)\n",
    "val_set = train_set.rename(columns={'IND_BOM_1_1': 'y'})\n",
    "test_set = test_set.drop('IND_BOM_1_2', 1)\n",
    "test_set = test_set.rename(columns={'IND_BOM_1_1': 'y'})\n",
    "\n",
    "# encontra as variavies categoricas\n",
    "for col in train_set.columns:\n",
    "    if ((train_set[col].quantile() == 1.0) | (train_set[col].quantile() == 0.0)):\n",
    "        train_set[col] = train_set[col].astype('category')\n",
    "for col in val_set.columns:\n",
    "    if ((val_set[col].quantile() == 1.0) | (val_set[col].quantile() == 0.0)):\n",
    "        val_set[col] = val_set[col].astype('category')\n",
    "for col in test_set.columns:\n",
    "    if ((test_set[col].quantile() == 1.0) | (test_set[col].quantile() == 0.0)):\n",
    "        test_set[col] = test_set[col].astype('category')\n",
    "\n",
    "# Embaralha os datasets\n",
    "train_set = train_set.sample(frac=1)\n",
    "val_set = val_set.sample(frac=1)"
   ]
  },
  {
   "cell_type": "code",
   "execution_count": 4,
   "metadata": {},
   "outputs": [],
   "source": [
    "X_train = train_set.loc[:, train_set.columns != 'y']\n",
    "y_train = train_set.loc[:, train_set.columns == 'y']\n",
    "X_val = val_set.loc[:, val_set.columns != 'y']\n",
    "y_val = val_set.loc[:, val_set.columns == 'y']\n",
    "X_test = test_set.loc[:, test_set.columns != 'y']\n",
    "y_test = test_set.loc[:, test_set.columns == 'y']"
   ]
  },
  {
   "cell_type": "code",
   "execution_count": 5,
   "metadata": {},
   "outputs": [],
   "source": [
    "from matplotlib.ticker import FormatStrFormatter\n",
    "\n",
    "fig, ax = plt.subplots()\n",
    "\n",
    "ax.yaxis.set_major_formatter(FormatStrFormatter('%.2f'))"
   ]
  },
  {
   "cell_type": "code",
   "execution_count": 6,
   "metadata": {},
   "outputs": [],
   "source": [
    "from sklearn import svm"
   ]
  },
  {
   "cell_type": "markdown",
   "metadata": {},
   "source": [
    "Primeiro usando Kernel SVM com kernel do tipo rbf"
   ]
  },
  {
   "cell_type": "code",
   "execution_count": 7,
   "metadata": {},
   "outputs": [
    {
     "data": {
      "text/plain": [
       "SVC(C=100.0, cache_size=200, class_weight=None, coef0=0.0,\n",
       "  decision_function_shape=None, degree=3, gamma=0.001, kernel='rbf',\n",
       "  max_iter=-1, probability=False, random_state=None, shrinking=True,\n",
       "  tol=0.001, verbose=False)"
      ]
     },
     "execution_count": 7,
     "metadata": {},
     "output_type": "execute_result"
    }
   ],
   "source": [
    "#testando svm kernel rbf\n",
    "#treino\n",
    "clf = svm.SVC(gamma=0.001, C=100.)\n",
    "clf.fit(X_train.values, y_train.values.ravel())"
   ]
  },
  {
   "cell_type": "code",
   "execution_count": 8,
   "metadata": {},
   "outputs": [
    {
     "name": "stdout",
     "output_type": "stream",
     "text": [
      "Mean accuracy score: 0.656\n"
     ]
    }
   ],
   "source": [
    "predited = clf.predict(X_test.values)\n",
    "accuracy = accuracy_score(y_test.values, predited)\n",
    "print(\"Mean accuracy score: {:.3}\".format(accuracy))"
   ]
  },
  {
   "cell_type": "code",
   "execution_count": 9,
   "metadata": {},
   "outputs": [
    {
     "data": {
      "text/html": [
       "<div>\n",
       "<table border=\"1\" class=\"dataframe\">\n",
       "  <thead>\n",
       "    <tr style=\"text-align: right;\">\n",
       "      <th></th>\n",
       "      <th>0</th>\n",
       "      <th>1</th>\n",
       "    </tr>\n",
       "  </thead>\n",
       "  <tbody>\n",
       "    <tr>\n",
       "      <th>0</th>\n",
       "      <td>8</td>\n",
       "      <td>3324</td>\n",
       "    </tr>\n",
       "    <tr>\n",
       "      <th>1</th>\n",
       "      <td>23</td>\n",
       "      <td>6374</td>\n",
       "    </tr>\n",
       "  </tbody>\n",
       "</table>\n",
       "</div>"
      ],
      "text/plain": [
       "    0     1\n",
       "0   8  3324\n",
       "1  23  6374"
      ]
     },
     "execution_count": 9,
     "metadata": {},
     "output_type": "execute_result"
    }
   ],
   "source": [
    "cm = pd.DataFrame(confusion_matrix(y_test, predited))\n",
    "fig = plt.figure(figsize=(10,7))\n",
    "heatmap = sns.heatmap(cm, annot=True)\n",
    "plt.ylabel('True label')\n",
    "plt.xlabel('Predicted label')\n",
    "cm"
   ]
  },
  {
   "cell_type": "markdown",
   "metadata": {},
   "source": [
    "Kernel do tipo linear e do tipo polinomial demoram mais de 12 horas para terminarem a execução. Códigos a seguir"
   ]
  },
  {
   "cell_type": "code",
   "execution_count": null,
   "metadata": {},
   "outputs": [],
   "source": [
    "#kernel linear\n",
    "linear_clf = svm.SVC(gamma=0.001, C=100., kernel='linear')\n",
    "linear_clf.fit(X_train.values, y_train.values.ravel())"
   ]
  },
  {
   "cell_type": "code",
   "execution_count": null,
   "metadata": {},
   "outputs": [],
   "source": [
    "linear_predited = linear_clf.predict(X_test.values)\n",
    "linear_accuracy = accuracy_score(y_test.values, linear_predited)\n",
    "print(\"Mean accuracy score: {:.3}\".format(linear_accuracy))"
   ]
  },
  {
   "cell_type": "code",
   "execution_count": null,
   "metadata": {},
   "outputs": [],
   "source": [
    "linear_cm = pd.DataFrame( confusion_matrix(y_test, linear_predited))\n",
    "linear_fig = plt.figure(figsize=(10,7))\n",
    "linear_heatmap = sns.heatmap(linear_cm, annot=True)\n",
    "plt.ylabel('True label')\n",
    "plt.xlabel('Predicted label')\n",
    "linear_cm"
   ]
  },
  {
   "cell_type": "code",
   "execution_count": null,
   "metadata": {},
   "outputs": [],
   "source": [
    "#kernel polinomial\n",
    "poly_clf = svm.SVC(gamma=0.001, C=100., kernel='poly')\n",
    "poly_clf.fit(X_train.values, y_train.values.ravel())"
   ]
  },
  {
   "cell_type": "code",
   "execution_count": null,
   "metadata": {},
   "outputs": [],
   "source": [
    "poly_predited = poly_clf.predict(X_test.values)\n",
    "poly_accuracy = accuracy_score(y_test.values, poly_predited)\n",
    "print(\"Mean accuracy score: {:.3}\".format(poly_accuracy))"
   ]
  },
  {
   "cell_type": "code",
   "execution_count": null,
   "metadata": {},
   "outputs": [],
   "source": [
    "poly_cm = pd.DataFrame( confusion_matrix(y_test, poly_predited))\n",
    "poly_fig = plt.figure(figsize=(10,7))\n",
    "poly_heatmap = sns.heatmap(poly_cm, annot=True)\n",
    "plt.ylabel('True label')\n",
    "plt.xlabel('Predicted label')\n",
    "poly_cm"
   ]
  }
 ],
 "metadata": {
  "kernelspec": {
   "display_name": "Python 3",
   "language": "python",
   "name": "python3"
  },
  "language_info": {
   "codemirror_mode": {
    "name": "ipython",
    "version": 3
   },
   "file_extension": ".py",
   "mimetype": "text/x-python",
   "name": "python",
   "nbconvert_exporter": "python",
   "pygments_lexer": "ipython3",
   "version": "3.5.2"
  }
 },
 "nbformat": 4,
 "nbformat_minor": 2
}
