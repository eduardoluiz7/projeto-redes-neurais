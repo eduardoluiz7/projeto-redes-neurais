{
 "cells": [
  {
   "cell_type": "code",
   "execution_count": 2,
   "metadata": {},
   "outputs": [],
   "source": [
    "import pandas as pd\n",
    "import numpy as np\n",
    "import seaborn as sns\n",
    "from seaborn import color_palette\n",
    "import matplotlib.pyplot as plt\n",
    "import matplotlib\n",
    "matplotlib.style.use('ggplot')\n",
    "\n",
    "import statsmodels.formula.api as smf\n",
    "import statsmodels.api as sm\n",
    "\n",
    "from sklearn.linear_model import LogisticRegression, LogisticRegressionCV\n",
    "from sklearn.metrics import accuracy_score, recall_score\n",
    "\n",
    "%matplotlib inline"
   ]
  },
  {
   "cell_type": "code",
   "execution_count": 3,
   "metadata": {},
   "outputs": [],
   "source": [
    "data_set = pd.read_csv(\"data/trn.csv\", sep=',', header=0, low_memory=False)"
   ]
  },
  {
   "cell_type": "code",
   "execution_count": 4,
   "metadata": {},
   "outputs": [],
   "source": [
    "data_set = data_set.drop('INDEX', 1)\n",
    "data_set = data_set.drop('Unnamed: 0', 1)\n",
    "\n",
    "# encontra as variavies categoricas\n",
    "for col in data_set.columns:\n",
    "    if ((data_set[col].quantile() == 1.0) | (data_set[col].quantile() == 0.0)):\n",
    "        data_set[col] = data_set[col].astype('category')"
   ]
  },
  {
   "cell_type": "code",
   "execution_count": 18,
   "metadata": {},
   "outputs": [],
   "source": [
    "from sklearn.model_selection import train_test_split\n",
    "\n",
    "X = data_set.loc[:, data_set.columns !='y']\n",
    "y = data_set.iloc[:, data_set.columns == 'y']\n",
    "\n",
    "X_train, X_test, y_train, y_test = train_test_split(X, y, test_size=1/4, random_state=42, stratify=y)\n",
    "train = X_train.join(y_train.y)\n",
    "test = X_test.join(y_test.y)"
   ]
  },
  {
   "cell_type": "code",
   "execution_count": 21,
   "metadata": {},
   "outputs": [
    {
     "data": {
      "text/plain": [
       "'y ~ UF_1 + UF_2 + UF_3 + UF_4 + UF_5 + UF_6 + UF_7 + IDADE + SEXO_1 + NIVEL_RELACIONAMENTO_CREDITO01 + NIVEL_RELACIONAMENTO_CREDITO02 + BANCO_REST_IRPF_ULTIMA_1 + BANCO_REST_IRPF_ULTIMA_2 + BANCO_REST_IRPF_ULTIMA_3 + BANCO_REST_IRPF_ULTIMA_4 + BANCO_REST_IRPF_ULTIMA_5 + BANCO_REST_IRPF_ULTIMA_6 + BANCO_REST_IRPF_ULTIMA_7 + ATIVIDADE_EMAIL + EXPOSICAO_ENDERECO + EXPOSICAO_EMAIL + EXPOSICAO_TELEFONE + ATIVIDADE_ENDERECO + ATUALIZACAO_ENDERECO + ATUALIZACAO_EMAIL + EXPOSICAO_CONSUMIDOR_EMAILS + EXPOSICAO_CONSUMIDOR_TELEFONES + ATIVIDADE_TELEFONE + VALOR_PARCELA_BOLSA_FAMILIA + FLAG_BOLSA_FAMILIA_1 + SIGLA_PARTIDO_FILIADO_1 + SIGLA_PARTIDO_FILIADO_2 + SIGLA_PARTIDO_FILIADO_3 + SIGLA_PARTIDO_FILIADO_4 + SIGLA_PARTIDO_FILIADO_5 + SIGLA_PARTIDO_FILIADO_6 + SIGLA_PARTIDO_FILIADO_7 + FLAG_FILIADO_PARTIDO_POLITICO_1 + FLAG_PROUNI_1 + RENDA_VIZINHANCA_1 + RENDA_VIZINHANCA_2 + RENDA_VIZINHANCA_3 + RENDA_VIZINHANCA_4 + QUANTIDADE_VIZINHANCA + COMPARATIVO_RENDA_CEP_1 + COMPARATIVO_RENDA_CEP_2 + COMPARATIVO_RENDA_CEP_3 + COMPARATIVO_RENDA_CEP_4 + COMPARATIVO_RENDA_CEP_5 + CLASSE_SOCIAL_CONSUMIDOR_1 + CLASSE_SOCIAL_CONSUMIDOR_2 + CLASSE_SOCIAL_CONSUMIDOR_3 + CLASSE_SOCIAL_CONSUMIDOR_4 + ATIVIDADE_CONSUMIDOR_MERCADO_FINANCEIRO + ATUALIZACAO_CONSUMIDOR_MERCADO_FINANCEIRO + FLAG_PROGRAMAS_SOCIAIS_1 + CAD_DEMOGRAFICO_VAR_0 + CAD_DEMOGRAFICO_VAR_1 + CAD_DEMOGRAFICO_VAR_2 + CAD_DEMOGRAFICO_VAR_3 + CAD_DEMOGRAFICO_VAR_4 + CAD_DEMOGRAFICO_VAR_5 + CAD_DEMOGRAFICO_VAR_6 + CAD_DEMOGRAFICO_VAR_7 + CAD_DEMOGRAFICO_VAR_8 + CAD_DEMOGRAFICO_VAR_10 + CAD_DEMOGRAFICO_VAR_11 + CAD_DEMOGRAFICO_VAR_13 + CAD_DEMOGRAFICO_VAR_14 + CAD_DEMOGRAFICO_VAR_15 + CAD_DEMOGRAFICO_VAR_16 + CAD_DEMOGRAFICO_VAR_17 + CAD_DEMOGRAFICO_VAR_19 + CAD_DEMOGRAFICO_VAR_21 + CAD_DEMOGRAFICO_VAR_22 + CAD_DEMOGRAFICO_VAR_23 + CAD_DEMOGRAFICO_VAR_24 + CAD_DEMOGRAFICO_VAR_25 + CAD_DEMOGRAFICO_VAR_26 + CAD_DEMOGRAFICO_VAR_27 + CAD_DEMOGRAFICO_VAR_28 + CAD_DEMOGRAFICO_VAR_30 + CAD_DEMOGRAFICO_VAR_31 + CAD_DEMOGRAFICO_VAR_33 + CAD_DEMOGRAFICO_VAR_34 + CAD_DEMOGRAFICO_VAR_35 + CAD_DEMOGRAFICO_VAR_36 + CAD_DEMOGRAFICO_VAR_37 + CAD_DEMOGRAFICO_VAR_38 + CAD_DEMOGRAFICO_VAR_39 + CAD_DEMOGRAFICO_VAR_40 + CAD_DEMOGRAFICO_VAR_41 + CAD_DEMOGRAFICO_VAR_42 + CAD_DEMOGRAFICO_VAR_43 + CAD_DEMOGRAFICO_VAR_44 + CAD_DEMOGRAFICO_VAR_45 + CAD_DEMOGRAFICO_VAR_46 + CAD_DEMOGRAFICO_VAR_47 + CAD_DEMOGRAFICO_VAR_50 + CAD_DEMOGRAFICO_VAR_52 + CAD_DEMOGRAFICO_VAR_53 + CAD_DEMOGRAFICO_VAR_54 + CAD_DEMOGRAFICO_VAR_55 + CAD_DEMOGRAFICO_VAR_57 + CAD_DEMOGRAFICO_VAR_58 + CAD_DEMOGRAFICO_VAR_59 + CAD_DEMOGRAFICO_VAR_61 + CAD_DEMOGRAFICO_VAR_62 + MENOR_DIST_ENDERECO_AEROPORTOS + MENOR_DIST_ENDERECO_PARQUES_DIVERSAO + MENOR_DIST_ENDERECO_CAIXA_ELETRONICO + MENOR_DIST_BANCO + MENOR_DIST_ENDERECO_BARES + MENOR_DIST_ENDERECO_ESTACAO_ONIBUS + MENOR_DIST_CONCESSIONARIA + MENOR_DIST_ALUGUEL_CARROS + MENOR_DIST_ENDERECO_OFICINAS + MENOR_DIST_ENDERECO_LAVA_RAPIDO + MENOR_DIST_ENDERECO_CEMITERIO + MENOR_DIST_ENDERECO_IGREJA + MENOR_DIST_ENDERECO_PREFEITURA + MENOR_DIST_ENDERECO_BOMBEIRO + MENOR_DIST_ENDERECO_FAVELA + MENOR_DIST_ENDERECO_FUNERARIA + MENOR_DIST_ENDERECO_POSTO_GASOLINA + MENOR_DIST_ENDERECO_SUPERMERCADO + MENOR_DIST_ENDERECO_ACADEMIAS + MENOR_DIST_ENDERECO_HOSPITAL + MENOR_DIST_CORRETOR_SEGUROS + MENOR_DIST_ENDERECO_BEBIDAS + MENOR_DIST_ENDERECO_HOTEL + MENOR_DIST_ENDERECO_CINEMAS + MENOR_DIST_ENDERECO_CASA_NOTURNA + MENOR_DIST_ENDERECO_PARQUE + MENOR_DIST_ESTACIONAMENTOS + MENOR_DIST_ENDERECO_POLICIA + MENOR_DIST_ENDERECO_CORREIOS + MENOR_DIST_ENDERECO_ESCOLAS + MENOR_DIST_ENDERECO_SHOPPING + MENOR_DIST_ENDERECO_METRO + MENOR_DIST_PONTO_TAXI + MENOR_DIST_ENDERECO_TREM + MENOR_DIST_UNIVERSIDADE + MENOR_DIST_ENDERECO_FRONTEIRA_ESTADUAL + MENOR_DIST_ENDERECO_FRONTEIRA_MARITIMA + MENOR_DIST_ENDERECO_FRONTEIRA_INTERNACIONAL + EXPOSICAO_ENDERECO_AEROPORTOS + EXPOSICAO_ENDERECO_PARQUES_DIVERSAO + EXPOSICAO_ENDERECO_AREA_RISCO + EXPOSICAO_ENDERECO_CAIXA_ELETRONICO + EXPOSICAO_ENDERECO_BANCOS + EXPOSICAO_ENDERECO_BARES + EXPOSICAO_ENDERECO_ESTACAO_ONIBUS + EXPOSICAO_ENDERECO_CONCESSIONARIA + EXPOSICAO_ENDERECO_ALUGUEL_CARROS + EXPOSICAO_ENDERECO_OFICINAS + EXPOSICAO_ENDERECO_LAVA_RAPIDO + EXPOSICAO_ENDERECO_CEMITERIO + EXPOSICAO_ENDERECO_IGREJA + EXPOSICAO_ENDERECO_PREFEITURA + EXPOSICAO_ENDERECO_BOMBEIRO + EXPOSICAO_ENDERECO_FAVELAS + EXPOSICAO_ENDERECO_FUNERARIA + EXPOSICAO_ENDERECO_POSTO_GASOLINA + EXPOSICAO_ENDERECO_SUPERMERCADO + EXPOSICAO_ENDERECO_ACADEMIAS + EXPOSICAO_ENDERECO_HOSPITAL + EXPOSICAO_ENDERECO_CORRETOR_SEGUROS + EXPOSICAO_ENDERECO_BEBIDAS + EXPOSICAO_ENDERECO_HOTEL + EXPOSICAO_ENDERECO_CINEMAS + EXPOSICAO_ENDERECO_CASA_NOTURNA + EXPOSICAO_ENDERECO_PARQUE + EXPOSICAO_ENDERECO_ESTACIONAMENTOS + EXPOSICAO_ENDERECO_POLICIA + EXPOSICAO_ENDERECO_CORREIOS + EXPOSICAO_ENDERECO_ESCOLAS + EXPOSICAO_ENDERECO_SHOPPING + EXPOSICAO_ENDERECO_METRO + EXPOSICAO_ENDERECO_PONTO_TAXI + EXPOSICAO_ENDERECO_TREM + EXPOSICAO_ENDERECO_UNIVERSIDADE + FLAG_REDE_SOCIAL_1 + FLAG_REDE_SOCIAL_2 + FLAG_REDE_SOCIAL_3 + FLAG_WEB_ARTES_1 + FLAG_WEB_MUSICA_1 + FLAG_WEB_TV_1 + FLAG_WEB_LIVROS_1 + FLAG_WEB_NEGOCIOS_1 + FLAG_WEB_NEGOCIOS_SERVICOS_1 + FLAG_WEB_NEGOCIOS_MARKETING_1 + FLAG_WEB_NEGOCIOS_SERVICOS_UNIVERSIDADES_1 + FLAG_WEB_NEGOCIOS_SERVICOS_COMPUTACAO_1 + FLAG_WEB_SAUDE_1 + FLAG_WEB_NOTICIAS_1 + FLAG_WEB_SOCIEDADE_1 + FLAG_WEB_SOCIEDADE_GENEALOGIA_1 + EXPOSICAO_WEB + FLAG_WEB_CIENCIA_1 + FLAG_WEB_COMPRAS_1 + FLAG_WEB_ESPORTES_FUTEBOL_1 + FLAG_WEB_1 + CEP1_1 + CEP1_2 + CEP1_3 + CEP1_4 + CEP1_5 + CEP2_1 + CEP2_2 + CEP2_3 + CEP2_4 + CEP2_5 + CEP2_6 + CEP2_7 + CEP2_8 + CEP2_9 + CEP3_1 + CEP3_2 + CEP3_3 + CEP3_4 + CEP3_5 + CEP3_6 + CEP3_7 + CEP3_8 + CEP3_9 + CEP3_10 + CEP3_11 + CEP3_12 + CEP4_1 + CEP4_2 + CEP4_3 + CEP4_4 + CEP4_5 + CEP4_6 + CEP4_7 + CEP4_8 + CEP4_9 + CEP4_10 + CEP4_11 + CEP4_12 + CEP4_13 + CEP4_14'"
      ]
     },
     "execution_count": 21,
     "metadata": {},
     "output_type": "execute_result"
    }
   ],
   "source": [
    "from functools import reduce\n",
    "colunas = 'y ~ '\n",
    "colunas += reduce((lambda x, y: x + ' + ' + y), X_train.columns.tolist())\n",
    "colunas"
   ]
  },
  {
   "cell_type": "code",
   "execution_count": 23,
   "metadata": {},
   "outputs": [
    {
     "data": {
      "text/html": [
       "<table class=\"simpletable\">\n",
       "<caption>OLS Regression Results</caption>\n",
       "<tr>\n",
       "  <th>Dep. Variable:</th>            <td>y</td>        <th>  R-squared:         </th>  <td>   0.002</td>  \n",
       "</tr>\n",
       "<tr>\n",
       "  <th>Model:</th>                   <td>OLS</td>       <th>  Adj. R-squared:    </th>  <td>   0.002</td>  \n",
       "</tr>\n",
       "<tr>\n",
       "  <th>Method:</th>             <td>Least Squares</td>  <th>  F-statistic:       </th>  <td>   85.86</td>  \n",
       "</tr>\n",
       "<tr>\n",
       "  <th>Date:</th>             <td>Wed, 11 Jul 2018</td> <th>  Prob (F-statistic):</th>  <td>5.25e-73</td>  \n",
       "</tr>\n",
       "<tr>\n",
       "  <th>Time:</th>                 <td>22:29:58</td>     <th>  Log-Likelihood:    </th> <td>-1.4582e+05</td>\n",
       "</tr>\n",
       "<tr>\n",
       "  <th>No. Observations:</th>      <td>201147</td>      <th>  AIC:               </th>  <td>2.916e+05</td> \n",
       "</tr>\n",
       "<tr>\n",
       "  <th>Df Residuals:</th>          <td>201142</td>      <th>  BIC:               </th>  <td>2.917e+05</td> \n",
       "</tr>\n",
       "<tr>\n",
       "  <th>Df Model:</th>              <td>     4</td>      <th>                     </th>      <td> </td>     \n",
       "</tr>\n",
       "<tr>\n",
       "  <th>Covariance Type:</th>      <td>nonrobust</td>    <th>                     </th>      <td> </td>     \n",
       "</tr>\n",
       "</table>\n",
       "<table class=\"simpletable\">\n",
       "<tr>\n",
       "      <td></td>         <th>coef</th>     <th>std err</th>      <th>t</th>      <th>P>|t|</th>  <th>[0.025</th>    <th>0.975]</th>  \n",
       "</tr>\n",
       "<tr>\n",
       "  <th>Intercept</th> <td>    0.5231</td> <td>    0.005</td> <td>  102.166</td> <td> 0.000</td> <td>    0.513</td> <td>    0.533</td>\n",
       "</tr>\n",
       "<tr>\n",
       "  <th>UF_1[T.1]</th> <td>    0.0142</td> <td>    0.004</td> <td>    3.804</td> <td> 0.000</td> <td>    0.007</td> <td>    0.021</td>\n",
       "</tr>\n",
       "<tr>\n",
       "  <th>UF_2[T.1]</th> <td>   -0.0214</td> <td>    0.003</td> <td>   -8.059</td> <td> 0.000</td> <td>   -0.027</td> <td>   -0.016</td>\n",
       "</tr>\n",
       "<tr>\n",
       "  <th>UF_3[T.1]</th> <td>   -0.0382</td> <td>    0.002</td> <td>  -15.927</td> <td> 0.000</td> <td>   -0.043</td> <td>   -0.033</td>\n",
       "</tr>\n",
       "<tr>\n",
       "  <th>UF_4[T.1]</th> <td>   -0.0080</td> <td>    0.003</td> <td>   -2.901</td> <td> 0.004</td> <td>   -0.013</td> <td>   -0.003</td>\n",
       "</tr>\n",
       "</table>\n",
       "<table class=\"simpletable\">\n",
       "<tr>\n",
       "  <th>Omnibus:</th>       <td> 0.001</td> <th>  Durbin-Watson:     </th> <td>   2.002</td> \n",
       "</tr>\n",
       "<tr>\n",
       "  <th>Prob(Omnibus):</th> <td> 1.000</td> <th>  Jarque-Bera (JB):  </th> <td>33295.984</td>\n",
       "</tr>\n",
       "<tr>\n",
       "  <th>Skew:</th>          <td>-0.000</td> <th>  Prob(JB):          </th> <td>    0.00</td> \n",
       "</tr>\n",
       "<tr>\n",
       "  <th>Kurtosis:</th>      <td> 1.007</td> <th>  Cond. No.          </th> <td>    9.50</td> \n",
       "</tr>\n",
       "</table><br/><br/>Warnings:<br/>[1] Standard Errors assume that the covariance matrix of the errors is correctly specified."
      ],
      "text/plain": [
       "<class 'statsmodels.iolib.summary.Summary'>\n",
       "\"\"\"\n",
       "                            OLS Regression Results                            \n",
       "==============================================================================\n",
       "Dep. Variable:                      y   R-squared:                       0.002\n",
       "Model:                            OLS   Adj. R-squared:                  0.002\n",
       "Method:                 Least Squares   F-statistic:                     85.86\n",
       "Date:                Wed, 11 Jul 2018   Prob (F-statistic):           5.25e-73\n",
       "Time:                        22:29:58   Log-Likelihood:            -1.4582e+05\n",
       "No. Observations:              201147   AIC:                         2.916e+05\n",
       "Df Residuals:                  201142   BIC:                         2.917e+05\n",
       "Df Model:                           4                                         \n",
       "Covariance Type:            nonrobust                                         \n",
       "==============================================================================\n",
       "                 coef    std err          t      P>|t|      [0.025      0.975]\n",
       "------------------------------------------------------------------------------\n",
       "Intercept      0.5231      0.005    102.166      0.000       0.513       0.533\n",
       "UF_1[T.1]      0.0142      0.004      3.804      0.000       0.007       0.021\n",
       "UF_2[T.1]     -0.0214      0.003     -8.059      0.000      -0.027      -0.016\n",
       "UF_3[T.1]     -0.0382      0.002    -15.927      0.000      -0.043      -0.033\n",
       "UF_4[T.1]     -0.0080      0.003     -2.901      0.004      -0.013      -0.003\n",
       "==============================================================================\n",
       "Omnibus:                        0.001   Durbin-Watson:                   2.002\n",
       "Prob(Omnibus):                  1.000   Jarque-Bera (JB):            33295.984\n",
       "Skew:                          -0.000   Prob(JB):                         0.00\n",
       "Kurtosis:                       1.007   Cond. No.                         9.50\n",
       "==============================================================================\n",
       "\n",
       "Warnings:\n",
       "[1] Standard Errors assume that the covariance matrix of the errors is correctly specified.\n",
       "\"\"\""
      ]
     },
     "execution_count": 23,
     "metadata": {},
     "output_type": "execute_result"
    }
   ],
   "source": [
    "model = smf.ols('y ~ UF_1 + UF_2 + UF_3 + UF_4',data=train).fit()\n",
    "model.summary()"
   ]
  },
  {
   "cell_type": "code",
   "execution_count": null,
   "metadata": {},
   "outputs": [],
   "source": []
  }
 ],
 "metadata": {
  "kernelspec": {
   "display_name": "Python 3",
   "language": "python",
   "name": "python3"
  },
  "language_info": {
   "codemirror_mode": {
    "name": "ipython",
    "version": 3
   },
   "file_extension": ".py",
   "mimetype": "text/x-python",
   "name": "python",
   "nbconvert_exporter": "python",
   "pygments_lexer": "ipython3",
   "version": "3.5.3"
  }
 },
 "nbformat": 4,
 "nbformat_minor": 2
}
