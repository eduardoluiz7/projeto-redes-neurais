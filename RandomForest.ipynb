{
 "cells": [
  {
   "cell_type": "code",
   "execution_count": 2,
   "metadata": {},
   "outputs": [],
   "source": [
    "import numpy as np\n",
    "import scipy as sp\n",
    "import pandas as pd\n",
    "\n",
    "from sklearn.model_selection import KFold\n",
    "from sklearn.preprocessing import StandardScaler\n",
    "from sklearn.model_selection import train_test_split\n",
    "from sklearn.metrics import confusion_matrix\n",
    "from sklearn.metrics import accuracy_score, recall_score, precision_score, f1_score\n",
    "from sklearn.metrics import roc_auc_score, average_precision_score, roc_curve\n",
    "\n",
    "import matplotlib\n",
    "matplotlib.use('nbagg')\n",
    "import matplotlib.pyplot as plt\n",
    "\n",
    "import seaborn as sns"
   ]
  },
  {
   "cell_type": "code",
   "execution_count": 3,
   "metadata": {},
   "outputs": [],
   "source": [
    "train_set = pd.read_csv(\"data/treino_total.csv\", sep=',', header=0, low_memory=False)\n",
    "val_set = pd.read_csv(\"data/val_total.csv\", sep=',', header=0, low_memory=False)\n",
    "test_set = pd.read_csv(\"data/teste_total.csv\", sep=',', header=0, low_memory=False)"
   ]
  },
  {
   "cell_type": "code",
   "execution_count": 4,
   "metadata": {},
   "outputs": [
    {
     "name": "stdout",
     "output_type": "stream",
     "text": [
      "(19460, 247)\n",
      "(9730, 247)\n",
      "(9729, 247)\n"
     ]
    }
   ],
   "source": [
    "print(train_set.shape)\n",
    "print(val_set.shape)\n",
    "print(test_set.shape)"
   ]
  },
  {
   "cell_type": "code",
   "execution_count": 5,
   "metadata": {},
   "outputs": [
    {
     "data": {
      "text/html": [
       "<div>\n",
       "<style scoped>\n",
       "    .dataframe tbody tr th:only-of-type {\n",
       "        vertical-align: middle;\n",
       "    }\n",
       "\n",
       "    .dataframe tbody tr th {\n",
       "        vertical-align: top;\n",
       "    }\n",
       "\n",
       "    .dataframe thead th {\n",
       "        text-align: right;\n",
       "    }\n",
       "</style>\n",
       "<table border=\"1\" class=\"dataframe\">\n",
       "  <thead>\n",
       "    <tr style=\"text-align: right;\">\n",
       "      <th></th>\n",
       "      <th>Unnamed: 0</th>\n",
       "      <th>INDEX</th>\n",
       "      <th>UF_1</th>\n",
       "      <th>UF_2</th>\n",
       "      <th>UF_3</th>\n",
       "      <th>UF_4</th>\n",
       "      <th>UF_5</th>\n",
       "      <th>UF_6</th>\n",
       "      <th>UF_7</th>\n",
       "      <th>IDADE</th>\n",
       "      <th>...</th>\n",
       "      <th>CEP4_7</th>\n",
       "      <th>CEP4_8</th>\n",
       "      <th>CEP4_9</th>\n",
       "      <th>CEP4_10</th>\n",
       "      <th>CEP4_11</th>\n",
       "      <th>CEP4_12</th>\n",
       "      <th>CEP4_13</th>\n",
       "      <th>CEP4_14</th>\n",
       "      <th>IND_BOM_1_1</th>\n",
       "      <th>IND_BOM_1_2</th>\n",
       "    </tr>\n",
       "  </thead>\n",
       "  <tbody>\n",
       "    <tr>\n",
       "      <th>count</th>\n",
       "      <td>19460.000000</td>\n",
       "      <td>19460.000000</td>\n",
       "      <td>19460.000000</td>\n",
       "      <td>19460.000000</td>\n",
       "      <td>19460.000000</td>\n",
       "      <td>19460.000000</td>\n",
       "      <td>19460.000000</td>\n",
       "      <td>19460.000000</td>\n",
       "      <td>19460.000000</td>\n",
       "      <td>1.946000e+04</td>\n",
       "      <td>...</td>\n",
       "      <td>19460.000000</td>\n",
       "      <td>19460.000000</td>\n",
       "      <td>19460.000000</td>\n",
       "      <td>19460.000000</td>\n",
       "      <td>19460.000000</td>\n",
       "      <td>19460.000000</td>\n",
       "      <td>19460.000000</td>\n",
       "      <td>19460.000000</td>\n",
       "      <td>19460.000000</td>\n",
       "      <td>19460.000000</td>\n",
       "    </tr>\n",
       "    <tr>\n",
       "      <th>mean</th>\n",
       "      <td>9730.500000</td>\n",
       "      <td>193774.912230</td>\n",
       "      <td>0.885303</td>\n",
       "      <td>0.696454</td>\n",
       "      <td>0.472405</td>\n",
       "      <td>0.294861</td>\n",
       "      <td>0.249897</td>\n",
       "      <td>0.214748</td>\n",
       "      <td>0.186331</td>\n",
       "      <td>4.531748e-01</td>\n",
       "      <td>...</td>\n",
       "      <td>0.428469</td>\n",
       "      <td>0.421172</td>\n",
       "      <td>0.426773</td>\n",
       "      <td>0.461254</td>\n",
       "      <td>0.436074</td>\n",
       "      <td>0.437153</td>\n",
       "      <td>0.434173</td>\n",
       "      <td>0.439157</td>\n",
       "      <td>0.657503</td>\n",
       "      <td>0.342497</td>\n",
       "    </tr>\n",
       "    <tr>\n",
       "      <th>std</th>\n",
       "      <td>5617.762455</td>\n",
       "      <td>112656.597501</td>\n",
       "      <td>0.318664</td>\n",
       "      <td>0.459801</td>\n",
       "      <td>0.499251</td>\n",
       "      <td>0.455992</td>\n",
       "      <td>0.432964</td>\n",
       "      <td>0.410658</td>\n",
       "      <td>0.389383</td>\n",
       "      <td>2.532467e-01</td>\n",
       "      <td>...</td>\n",
       "      <td>0.494870</td>\n",
       "      <td>0.493760</td>\n",
       "      <td>0.494621</td>\n",
       "      <td>0.498509</td>\n",
       "      <td>0.495909</td>\n",
       "      <td>0.496047</td>\n",
       "      <td>0.495661</td>\n",
       "      <td>0.496297</td>\n",
       "      <td>0.474557</td>\n",
       "      <td>0.474557</td>\n",
       "    </tr>\n",
       "    <tr>\n",
       "      <th>min</th>\n",
       "      <td>1.000000</td>\n",
       "      <td>19.000000</td>\n",
       "      <td>0.000000</td>\n",
       "      <td>0.000000</td>\n",
       "      <td>0.000000</td>\n",
       "      <td>0.000000</td>\n",
       "      <td>0.000000</td>\n",
       "      <td>0.000000</td>\n",
       "      <td>0.000000</td>\n",
       "      <td>5.506237e-16</td>\n",
       "      <td>...</td>\n",
       "      <td>0.000000</td>\n",
       "      <td>0.000000</td>\n",
       "      <td>0.000000</td>\n",
       "      <td>0.000000</td>\n",
       "      <td>0.000000</td>\n",
       "      <td>0.000000</td>\n",
       "      <td>0.000000</td>\n",
       "      <td>0.000000</td>\n",
       "      <td>0.000000</td>\n",
       "      <td>0.000000</td>\n",
       "    </tr>\n",
       "    <tr>\n",
       "      <th>25%</th>\n",
       "      <td>4865.750000</td>\n",
       "      <td>96163.750000</td>\n",
       "      <td>1.000000</td>\n",
       "      <td>0.000000</td>\n",
       "      <td>0.000000</td>\n",
       "      <td>0.000000</td>\n",
       "      <td>0.000000</td>\n",
       "      <td>0.000000</td>\n",
       "      <td>0.000000</td>\n",
       "      <td>2.480463e-01</td>\n",
       "      <td>...</td>\n",
       "      <td>0.000000</td>\n",
       "      <td>0.000000</td>\n",
       "      <td>0.000000</td>\n",
       "      <td>0.000000</td>\n",
       "      <td>0.000000</td>\n",
       "      <td>0.000000</td>\n",
       "      <td>0.000000</td>\n",
       "      <td>0.000000</td>\n",
       "      <td>0.000000</td>\n",
       "      <td>0.000000</td>\n",
       "    </tr>\n",
       "    <tr>\n",
       "      <th>50%</th>\n",
       "      <td>9730.500000</td>\n",
       "      <td>193451.500000</td>\n",
       "      <td>1.000000</td>\n",
       "      <td>1.000000</td>\n",
       "      <td>0.000000</td>\n",
       "      <td>0.000000</td>\n",
       "      <td>0.000000</td>\n",
       "      <td>0.000000</td>\n",
       "      <td>0.000000</td>\n",
       "      <td>4.380353e-01</td>\n",
       "      <td>...</td>\n",
       "      <td>0.000000</td>\n",
       "      <td>0.000000</td>\n",
       "      <td>0.000000</td>\n",
       "      <td>0.000000</td>\n",
       "      <td>0.000000</td>\n",
       "      <td>0.000000</td>\n",
       "      <td>0.000000</td>\n",
       "      <td>0.000000</td>\n",
       "      <td>1.000000</td>\n",
       "      <td>0.000000</td>\n",
       "    </tr>\n",
       "    <tr>\n",
       "      <th>75%</th>\n",
       "      <td>14595.250000</td>\n",
       "      <td>291593.500000</td>\n",
       "      <td>1.000000</td>\n",
       "      <td>1.000000</td>\n",
       "      <td>1.000000</td>\n",
       "      <td>1.000000</td>\n",
       "      <td>0.000000</td>\n",
       "      <td>0.000000</td>\n",
       "      <td>0.000000</td>\n",
       "      <td>6.533400e-01</td>\n",
       "      <td>...</td>\n",
       "      <td>1.000000</td>\n",
       "      <td>1.000000</td>\n",
       "      <td>1.000000</td>\n",
       "      <td>1.000000</td>\n",
       "      <td>1.000000</td>\n",
       "      <td>1.000000</td>\n",
       "      <td>1.000000</td>\n",
       "      <td>1.000000</td>\n",
       "      <td>1.000000</td>\n",
       "      <td>1.000000</td>\n",
       "    </tr>\n",
       "    <tr>\n",
       "      <th>max</th>\n",
       "      <td>19460.000000</td>\n",
       "      <td>389156.000000</td>\n",
       "      <td>1.000000</td>\n",
       "      <td>1.000000</td>\n",
       "      <td>1.000000</td>\n",
       "      <td>1.000000</td>\n",
       "      <td>1.000000</td>\n",
       "      <td>1.000000</td>\n",
       "      <td>1.000000</td>\n",
       "      <td>1.000000e+00</td>\n",
       "      <td>...</td>\n",
       "      <td>1.000000</td>\n",
       "      <td>1.000000</td>\n",
       "      <td>1.000000</td>\n",
       "      <td>1.000000</td>\n",
       "      <td>1.000000</td>\n",
       "      <td>1.000000</td>\n",
       "      <td>1.000000</td>\n",
       "      <td>1.000000</td>\n",
       "      <td>1.000000</td>\n",
       "      <td>1.000000</td>\n",
       "    </tr>\n",
       "  </tbody>\n",
       "</table>\n",
       "<p>8 rows × 247 columns</p>\n",
       "</div>"
      ],
      "text/plain": [
       "         Unnamed: 0          INDEX          UF_1          UF_2          UF_3  \\\n",
       "count  19460.000000   19460.000000  19460.000000  19460.000000  19460.000000   \n",
       "mean    9730.500000  193774.912230      0.885303      0.696454      0.472405   \n",
       "std     5617.762455  112656.597501      0.318664      0.459801      0.499251   \n",
       "min        1.000000      19.000000      0.000000      0.000000      0.000000   \n",
       "25%     4865.750000   96163.750000      1.000000      0.000000      0.000000   \n",
       "50%     9730.500000  193451.500000      1.000000      1.000000      0.000000   \n",
       "75%    14595.250000  291593.500000      1.000000      1.000000      1.000000   \n",
       "max    19460.000000  389156.000000      1.000000      1.000000      1.000000   \n",
       "\n",
       "               UF_4          UF_5          UF_6          UF_7         IDADE  \\\n",
       "count  19460.000000  19460.000000  19460.000000  19460.000000  1.946000e+04   \n",
       "mean       0.294861      0.249897      0.214748      0.186331  4.531748e-01   \n",
       "std        0.455992      0.432964      0.410658      0.389383  2.532467e-01   \n",
       "min        0.000000      0.000000      0.000000      0.000000  5.506237e-16   \n",
       "25%        0.000000      0.000000      0.000000      0.000000  2.480463e-01   \n",
       "50%        0.000000      0.000000      0.000000      0.000000  4.380353e-01   \n",
       "75%        1.000000      0.000000      0.000000      0.000000  6.533400e-01   \n",
       "max        1.000000      1.000000      1.000000      1.000000  1.000000e+00   \n",
       "\n",
       "           ...             CEP4_7        CEP4_8        CEP4_9       CEP4_10  \\\n",
       "count      ...       19460.000000  19460.000000  19460.000000  19460.000000   \n",
       "mean       ...           0.428469      0.421172      0.426773      0.461254   \n",
       "std        ...           0.494870      0.493760      0.494621      0.498509   \n",
       "min        ...           0.000000      0.000000      0.000000      0.000000   \n",
       "25%        ...           0.000000      0.000000      0.000000      0.000000   \n",
       "50%        ...           0.000000      0.000000      0.000000      0.000000   \n",
       "75%        ...           1.000000      1.000000      1.000000      1.000000   \n",
       "max        ...           1.000000      1.000000      1.000000      1.000000   \n",
       "\n",
       "            CEP4_11       CEP4_12       CEP4_13       CEP4_14   IND_BOM_1_1  \\\n",
       "count  19460.000000  19460.000000  19460.000000  19460.000000  19460.000000   \n",
       "mean       0.436074      0.437153      0.434173      0.439157      0.657503   \n",
       "std        0.495909      0.496047      0.495661      0.496297      0.474557   \n",
       "min        0.000000      0.000000      0.000000      0.000000      0.000000   \n",
       "25%        0.000000      0.000000      0.000000      0.000000      0.000000   \n",
       "50%        0.000000      0.000000      0.000000      0.000000      1.000000   \n",
       "75%        1.000000      1.000000      1.000000      1.000000      1.000000   \n",
       "max        1.000000      1.000000      1.000000      1.000000      1.000000   \n",
       "\n",
       "        IND_BOM_1_2  \n",
       "count  19460.000000  \n",
       "mean       0.342497  \n",
       "std        0.474557  \n",
       "min        0.000000  \n",
       "25%        0.000000  \n",
       "50%        0.000000  \n",
       "75%        1.000000  \n",
       "max        1.000000  \n",
       "\n",
       "[8 rows x 247 columns]"
      ]
     },
     "execution_count": 5,
     "metadata": {},
     "output_type": "execute_result"
    }
   ],
   "source": [
    "train_set.describe()"
   ]
  },
  {
   "cell_type": "code",
   "execution_count": 6,
   "metadata": {},
   "outputs": [],
   "source": [
    "# merge das duas ultimas colunas na coluna 'y'\n",
    "train_set = train_set.drop('IND_BOM_1_2', 1)\n",
    "train_set = train_set.rename(columns={'IND_BOM_1_1': 'y'})\n",
    "val_set = val_set.drop('IND_BOM_1_2', 1)\n",
    "val_set = train_set.rename(columns={'IND_BOM_1_1': 'y'})\n",
    "test_set = test_set.drop('IND_BOM_1_2', 1)\n",
    "test_set = test_set.rename(columns={'IND_BOM_1_1': 'y'})\n",
    "\n",
    "# encontra as variavies categoricas\n",
    "for col in train_set.columns:\n",
    "    if ((train_set[col].quantile() == 1.0) | (train_set[col].quantile() == 0.0)):\n",
    "        train_set[col] = train_set[col].astype('category')\n",
    "for col in val_set.columns:\n",
    "    if ((val_set[col].quantile() == 1.0) | (val_set[col].quantile() == 0.0)):\n",
    "        val_set[col] = val_set[col].astype('category')\n",
    "for col in test_set.columns:\n",
    "    if ((test_set[col].quantile() == 1.0) | (test_set[col].quantile() == 0.0)):\n",
    "        test_set[col] = test_set[col].astype('category')\n",
    "\n",
    "# Embaralha os datasets\n",
    "train_set = train_set.sample(frac=1)\n",
    "val_set = val_set.sample(frac=1)"
   ]
  },
  {
   "cell_type": "code",
   "execution_count": 7,
   "metadata": {},
   "outputs": [
    {
     "data": {
      "text/plain": [
       "Unnamed: 0                           int64\n",
       "INDEX                                int64\n",
       "UF_1                              category\n",
       "UF_2                              category\n",
       "UF_3                              category\n",
       "UF_4                              category\n",
       "UF_5                              category\n",
       "UF_6                              category\n",
       "UF_7                              category\n",
       "IDADE                              float64\n",
       "SEXO_1                            category\n",
       "NIVEL_RELACIONAMENTO_CREDITO01     float64\n",
       "NIVEL_RELACIONAMENTO_CREDITO02    category\n",
       "BANCO_REST_IRPF_ULTIMA_1          category\n",
       "BANCO_REST_IRPF_ULTIMA_2          category\n",
       "BANCO_REST_IRPF_ULTIMA_3          category\n",
       "BANCO_REST_IRPF_ULTIMA_4          category\n",
       "BANCO_REST_IRPF_ULTIMA_5          category\n",
       "BANCO_REST_IRPF_ULTIMA_6          category\n",
       "BANCO_REST_IRPF_ULTIMA_7          category\n",
       "ATIVIDADE_EMAIL                    float64\n",
       "EXPOSICAO_ENDERECO                 float64\n",
       "EXPOSICAO_EMAIL                   category\n",
       "EXPOSICAO_TELEFONE                category\n",
       "ATIVIDADE_ENDERECO                 float64\n",
       "ATUALIZACAO_ENDERECO               float64\n",
       "ATUALIZACAO_EMAIL                  float64\n",
       "EXPOSICAO_CONSUMIDOR_EMAILS       category\n",
       "EXPOSICAO_CONSUMIDOR_TELEFONES     float64\n",
       "ATIVIDADE_TELEFONE                 float64\n",
       "                                    ...   \n",
       "CEP2_7                            category\n",
       "CEP2_8                            category\n",
       "CEP2_9                            category\n",
       "CEP3_1                            category\n",
       "CEP3_2                            category\n",
       "CEP3_3                            category\n",
       "CEP3_4                            category\n",
       "CEP3_5                            category\n",
       "CEP3_6                            category\n",
       "CEP3_7                            category\n",
       "CEP3_8                            category\n",
       "CEP3_9                            category\n",
       "CEP3_10                           category\n",
       "CEP3_11                           category\n",
       "CEP3_12                           category\n",
       "CEP4_1                            category\n",
       "CEP4_2                            category\n",
       "CEP4_3                            category\n",
       "CEP4_4                            category\n",
       "CEP4_5                            category\n",
       "CEP4_6                            category\n",
       "CEP4_7                            category\n",
       "CEP4_8                            category\n",
       "CEP4_9                            category\n",
       "CEP4_10                           category\n",
       "CEP4_11                           category\n",
       "CEP4_12                           category\n",
       "CEP4_13                           category\n",
       "CEP4_14                           category\n",
       "y                                 category\n",
       "Length: 246, dtype: object"
      ]
     },
     "execution_count": 7,
     "metadata": {},
     "output_type": "execute_result"
    }
   ],
   "source": [
    "train_set.dtypes"
   ]
  },
  {
   "cell_type": "code",
   "execution_count": 8,
   "metadata": {},
   "outputs": [],
   "source": [
    "X_train = train_set.loc[:, train_set.columns != 'y']\n",
    "y_train = train_set.loc[:, train_set.columns == 'y']\n",
    "X_val = val_set.loc[:, val_set.columns != 'y']\n",
    "y_val = val_set.loc[:, val_set.columns == 'y']\n",
    "X_test = test_set.loc[:, test_set.columns != 'y']\n",
    "y_test = test_set.loc[:, test_set.columns == 'y']"
   ]
  },
  {
   "cell_type": "code",
   "execution_count": 9,
   "metadata": {},
   "outputs": [],
   "source": [
    "from sklearn.ensemble import RandomForestClassifier"
   ]
  },
  {
   "cell_type": "code",
   "execution_count": 10,
   "metadata": {},
   "outputs": [
    {
     "data": {
      "text/plain": [
       "RandomForestClassifier(bootstrap=True, class_weight=None, criterion='gini',\n",
       "            max_depth=None, max_features='auto', max_leaf_nodes=None,\n",
       "            min_impurity_decrease=0.0, min_impurity_split=None,\n",
       "            min_samples_leaf=1, min_samples_split=2,\n",
       "            min_weight_fraction_leaf=0.0, n_estimators=100, n_jobs=1,\n",
       "            oob_score=True, random_state=123456, verbose=0,\n",
       "            warm_start=False)"
      ]
     },
     "execution_count": 10,
     "metadata": {},
     "output_type": "execute_result"
    }
   ],
   "source": [
    "rf = RandomForestClassifier(n_estimators=100, oob_score=True, random_state=401, n_jobs=-1)\n",
    "rf.fit(X_train.values, y_train.values.ravel())"
   ]
  },
  {
   "cell_type": "code",
   "execution_count": 11,
   "metadata": {},
   "outputs": [
    {
     "name": "stdout",
     "output_type": "stream",
     "text": [
      "Out-of-bag score estimate: 0.788\n",
      "Mean accuracy score: 0.659\n"
     ]
    }
   ],
   "source": [
    "predicted = rf.predict(X_test.values)\n",
    "accuracy = accuracy_score(y_test.values, predicted)\n",
    "print(\"Out-of-bag score estimate: {:.3}\".format(rf.oob_score_))\n",
    "print(\"Mean accuracy score: {:.3}\".format(accuracy))"
   ]
  },
  {
   "cell_type": "code",
   "execution_count": 12,
   "metadata": {},
   "outputs": [],
   "source": [
    "from matplotlib.ticker import FormatStrFormatter\n",
    "\n",
    "fig, ax = plt.subplots()\n",
    "\n",
    "ax.yaxis.set_major_formatter(FormatStrFormatter('%.2f'))"
   ]
  },
  {
   "cell_type": "code",
   "execution_count": 13,
   "metadata": {},
   "outputs": [
    {
     "data": {
      "text/html": [
       "<div>\n",
       "<style scoped>\n",
       "    .dataframe tbody tr th:only-of-type {\n",
       "        vertical-align: middle;\n",
       "    }\n",
       "\n",
       "    .dataframe tbody tr th {\n",
       "        vertical-align: top;\n",
       "    }\n",
       "\n",
       "    .dataframe thead th {\n",
       "        text-align: right;\n",
       "    }\n",
       "</style>\n",
       "<table border=\"1\" class=\"dataframe\">\n",
       "  <thead>\n",
       "    <tr style=\"text-align: right;\">\n",
       "      <th></th>\n",
       "      <th>0</th>\n",
       "      <th>1</th>\n",
       "    </tr>\n",
       "  </thead>\n",
       "  <tbody>\n",
       "    <tr>\n",
       "      <th>0</th>\n",
       "      <td>442</td>\n",
       "      <td>2890</td>\n",
       "    </tr>\n",
       "    <tr>\n",
       "      <th>1</th>\n",
       "      <td>424</td>\n",
       "      <td>5973</td>\n",
       "    </tr>\n",
       "  </tbody>\n",
       "</table>\n",
       "</div>"
      ],
      "text/plain": [
       "     0     1\n",
       "0  442  2890\n",
       "1  424  5973"
      ]
     },
     "execution_count": 13,
     "metadata": {},
     "output_type": "execute_result"
    },
    {
     "data": {
      "image/png": "[encoded data removed]",
      "text/plain": [
       "<Figure size 720x504 with 2 Axes>"
      ]
     },
     "metadata": {},
     "output_type": "display_data"
    }
   ],
   "source": [
    "%matplotlib inline\n",
    "cm = pd.DataFrame(confusion_matrix(y_test, predicted))\n",
    "fig = plt.figure(figsize=(10,7))\n",
    "heatmap = sns.heatmap(cm, annot=True)\n",
    "plt.ylabel('True label')\n",
    "plt.xlabel('Predicted label')\n",
    "\n",
    "#heatmap\n",
    "cm"
   ]
  },
  {
   "cell_type": "code",
   "execution_count": 14,
   "metadata": {},
   "outputs": [],
   "source": [
    "y_pred_rt = rf.predict_proba(X_test)[:, 1]\n",
    "fpr, tpr, thresholds = roc_curve(y_test.values, y_pred_rt, pos_label=1)"
   ]
  },
  {
   "cell_type": "code",
   "execution_count": 15,
   "metadata": {},
   "outputs": [
    {
     "data": {
      "image/png": "[encoded data removed]",
      "text/plain": [
       "<Figure size 720x720 with 1 Axes>"
      ]
     },
     "metadata": {},
     "output_type": "display_data"
    }
   ],
   "source": [
    "%matplotlib inline\n",
    "from sklearn.metrics import auc\n",
    "\n",
    "roc_auc = auc(fpr, tpr)\n",
    "\n",
    "plt.figure(figsize=(10,10))\n",
    "plt.plot(fpr, tpr, color='darkorange', lw=1, label='ROC curve (area = %0.2f)' % roc_auc)\n",
    "#plt.plot(tpr, fpr, color='darkblue', lw=1, label='ROC curve (area = %0.2f)' % roc_auc)\n",
    "plt.plot([0, 1], [0, 1], color='navy', linestyle='--')\n",
    "plt.xlim([0.0, 1.0])\n",
    "plt.ylim([0.0, 1.05])\n",
    "plt.xlabel('False Positive Rate')\n",
    "plt.ylabel('True Positive Rate')\n",
    "plt.title('Receiver Operating Oharacteristic')\n",
    "plt.legend(loc=\"lower right\")\n",
    "plt.show()"
   ]
  },
  {
   "cell_type": "code",
   "execution_count": 20,
   "metadata": {},
   "outputs": [
    {
     "data": {
      "text/plain": [
       "Ks_2sampResult(statistic=0.6561825470243602, pvalue=0.0)"
      ]
     },
     "execution_count": 20,
     "metadata": {},
     "output_type": "execute_result"
    }
   ],
   "source": [
    "from scipy import stats\n",
    "\n",
    "#ks = stats.ks_2samp(y_test.iloc[:,0].values, predicted)\n",
    "\n",
    "ks = stats.ks_2samp(y_test.iloc[:,0].values, y_pred_rt)\n",
    "\n",
    "ks"
   ]
  },
  {
   "cell_type": "code",
   "execution_count": 21,
   "metadata": {},
   "outputs": [
    {
     "data": {
      "text/plain": [
       "{'bootstrap': True,\n",
       " 'class_weight': None,\n",
       " 'criterion': 'gini',\n",
       " 'max_depth': None,\n",
       " 'max_features': 'auto',\n",
       " 'max_leaf_nodes': None,\n",
       " 'min_impurity_decrease': 0.0,\n",
       " 'min_impurity_split': None,\n",
       " 'min_samples_leaf': 1,\n",
       " 'min_samples_split': 2,\n",
       " 'min_weight_fraction_leaf': 0.0,\n",
       " 'n_estimators': 100,\n",
       " 'n_jobs': 1,\n",
       " 'oob_score': True,\n",
       " 'random_state': 123456,\n",
       " 'verbose': 0,\n",
       " 'warm_start': False}"
      ]
     },
     "execution_count": 21,
     "metadata": {},
     "output_type": "execute_result"
    }
   ],
   "source": [
    "rf.get_params()"
   ]
  },
  {
   "cell_type": "code",
   "execution_count": null,
   "metadata": {},
   "outputs": [],
   "source": []
  }
 ],
 "metadata": {
  "kernelspec": {
   "display_name": "Python 3",
   "language": "python",
   "name": "python3"
  },
  "language_info": {
   "codemirror_mode": {
    "name": "ipython",
    "version": 3
   },
   "file_extension": ".py",
   "mimetype": "text/x-python",
   "name": "python",
   "nbconvert_exporter": "python",
   "pygments_lexer": "ipython3",
   "version": "3.5.3"
  }
 },
 "nbformat": 4,
 "nbformat_minor": 2
}
